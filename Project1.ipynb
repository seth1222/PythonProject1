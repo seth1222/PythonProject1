{
  "nbformat": 4,
  "nbformat_minor": 0,
  "metadata": {
    "colab": {
      "name": "Project1.ipynb",
      "provenance": [],
      "collapsed_sections": [],
      "authorship_tag": "ABX9TyPCTEhbz8hq1gP3A8QHsm1V",
      "include_colab_link": true
    },
    "kernelspec": {
      "name": "python3",
      "display_name": "Python 3"
    }
  },
  "cells": [
    {
      "cell_type": "markdown",
      "metadata": {
        "id": "view-in-github",
        "colab_type": "text"
      },
      "source": [
        "<a href=\"https://colab.research.google.com/github/seth1222/PythonProject1/blob/master/Project1.ipynb\" target=\"_parent\"><img src=\"https://colab.research.google.com/assets/colab-badge.svg\" alt=\"Open In Colab\"/></a>"
      ]
    },
    {
      "cell_type": "code",
      "metadata": {
        "id": "DqSStN5sMMfQ",
        "colab_type": "code",
        "colab": {
          "base_uri": "https://localhost:8080/",
          "height": 282
        },
        "outputId": "b717f064-0211-48d0-b3a0-5ab0dc63d56b"
      },
      "source": [
        "import pandas as pd\n",
        "import numpy as np\n",
        "import matplotlib.pyplot as plt\n",
        "import seaborn as sns\n",
        "%matplotlib inline\n",
        "missing_values=[\"n/a\",\"na\",\"--\",\"s\"]\n",
        "df= pd.read_csv('https://raw.githubusercontent.com/CunyLaguardiaDataAnalytics/datasets/master/2014-15_To_2016-17_School-_Level_NYC_Regents_Report_For_All_Variables.csv',index_col=6)\n",
        "drop_cols = ['School DBN','Total Tested','Percent Scoring Below 65', 'Percent Scoring 65 or Above','Percent Scoring 80 or Above','Number Scoring Below 65','Number Scoring 65 or Above','Number Scoring 80 or Above','Number Scoring CR','Percent Scoring CR']\n",
        "df.drop(drop_cols, inplace= True, axis=1)\n",
        "PS008RF =df[(df['School Name']=='P.S. 008 Robert Fulton') & (df['Regents Exam']=='Common Core Algebra')]\n",
        "PS008RF.plot(kind='hist')\n",
        "\n",
        "# I did a comparative analysis of the Mean Scores between P.S. 008, P.S. 232, and citywide (the entire dataset).  \n",
        "# I picked P.S 008 because it is the Junior Highschool that I attended.  \n",
        "# I decided to do the comparative P.S. 008 with P.S. 232 because the grade range was also K-8.\n",
        "# For each block of code is used the \".plot(kind='hist')\" function to show the mean scores for each during the span of 2015, 2016, and 2017.\n",
        "# Highlight: Based on the analysis, P.S. 008 exceeded the mean scored of P.S. 232 and the citywide during 2017.  "
      ],
      "execution_count": 29,
      "outputs": [
        {
          "output_type": "execute_result",
          "data": {
            "text/plain": [
              "<matplotlib.axes._subplots.AxesSubplot at 0x7f2aa1f1e208>"
            ]
          },
          "metadata": {
            "tags": []
          },
          "execution_count": 29
        },
        {
          "output_type": "display_data",
          "data": {
            "image/png": "[encoded data removed]",
            "text/plain": [
              "<Figure size 432x288 with 1 Axes>"
            ]
          },
          "metadata": {
            "tags": [],
            "needs_background": "light"
          }
        }
      ]
    },
    {
      "cell_type": "code",
      "metadata": {
        "id": "msdFS85TPWom",
        "colab_type": "code",
        "colab": {
          "base_uri": "https://localhost:8080/",
          "height": 282
        },
        "outputId": "b6b32c0d-0908-463f-ec3a-d4e8ecd644a7"
      },
      "source": [
        "import pandas as pd\n",
        "import numpy as np\n",
        "import matplotlib.pyplot as plt\n",
        "import seaborn as sns\n",
        "%matplotlib inline\n",
        "missing_values=[\"n/a\",\"na\",\"--\",\"s\"]\n",
        "df= pd.read_csv('https://raw.githubusercontent.com/CunyLaguardiaDataAnalytics/datasets/master/2014-15_To_2016-17_School-_Level_NYC_Regents_Report_For_All_Variables.csv',index_col=6)\n",
        "drop_cols = ['School DBN','Total Tested','Percent Scoring Below 65','Percent Scoring 65 or Above', 'Percent Scoring 80 or Above','Number Scoring Below 65','Number Scoring 65 or Above','Number Scoring 80 or Above','Number Scoring CR','Percent Scoring CR']\n",
        "df.drop(drop_cols, inplace= True, axis=1)\n",
        "PS232L =df[(df['School Name']=='P.S. 232 Lindenwood') & (df['Regents Exam']=='Common Core Algebra')]\n",
        "PS232L.plot(kind='hist')\n",
        "\n",
        "# I did a comparative analysis of the Mean Scores between P.S. 008, P.S. 232, and citywide (the entire dataset).  \n",
        "# I picked P.S 008 because it is the Junior Highschool that I attended.  \n",
        "# I decided to do the comparative P.S. 008 with P.S. 232 because the grade range was also K-8.\n",
        "# For each block of code is used the \".plot(kind='hist')\" function to show the mean scores for each during the span of 2015, 2016, and 2017.\n",
        "# Highlight: Based on the analysis, P.S. 232 exceeded the mean scored citywide during 2017\n"
      ],
      "execution_count": 30,
      "outputs": [
        {
          "output_type": "execute_result",
          "data": {
            "text/plain": [
              "<matplotlib.axes._subplots.AxesSubplot at 0x7f2a9f97dac8>"
            ]
          },
          "metadata": {
            "tags": []
          },
          "execution_count": 30
        },
        {
          "output_type": "display_data",
          "data": {
            "image/png": "[encoded data removed]",
            "text/plain": [
              "<Figure size 432x288 with 1 Axes>"
            ]
          },
          "metadata": {
            "tags": [],
            "needs_background": "light"
          }
        }
      ]
    },
    {
      "cell_type": "code",
      "metadata": {
        "id": "xEq8zIZyAckQ",
        "colab_type": "code",
        "colab": {
          "base_uri": "https://localhost:8080/",
          "height": 282
        },
        "outputId": "81b8bda7-a20f-4478-d0f7-506d1b50a758"
      },
      "source": [
        "import pandas as pd\n",
        "import numpy as np\n",
        "import matplotlib.pyplot as plt\n",
        "import seaborn as sns\n",
        "%matplotlib inline\n",
        "missing_values=[\"n/a\",\"na\",\"--\",\"s\"]\n",
        "df= pd.read_csv('https://raw.githubusercontent.com/CunyLaguardiaDataAnalytics/datasets/master/2014-15_To_2016-17_School-_Level_NYC_Regents_Report_For_All_Variables.csv',index_col=6)\n",
        "drop_cols = ['School DBN','Total Tested','Percent Scoring Below 65','Percent Scoring 65 or Above', 'Percent Scoring 80 or Above','Number Scoring Below 65','Number Scoring 65 or Above','Number Scoring 80 or Above','Number Scoring CR','Percent Scoring CR']\n",
        "df.drop(drop_cols, inplace= True, axis=1)\n",
        "df.plot(kind='hist')\n",
        "\n",
        "\n",
        "# I did a comparative analysis of the Mean Scores between P.S. 008, P.S. 232, and citywide (the entire dataset).  \n",
        "# I picked P.S 008 because it is the Junior Highschool that I attended.  \n",
        "# I decided to do the comparative P.S. 008 with P.S. 232 because the grade range was also K-8.\n",
        "# For each block of code is used the \".plot(kind='hist')\" function to show the mean scores for each during the span of 2015, 2016, and 2017."
      ],
      "execution_count": 20,
      "outputs": [
        {
          "output_type": "execute_result",
          "data": {
            "text/plain": [
              "<matplotlib.axes._subplots.AxesSubplot at 0x7f2a9f365748>"
            ]
          },
          "metadata": {
            "tags": []
          },
          "execution_count": 20
        },
        {
          "output_type": "display_data",
          "data": {
            "image/png": "[encoded data removed]",
            "text/plain": [
              "<Figure size 432x288 with 1 Axes>"
            ]
          },
          "metadata": {
            "tags": [],
            "needs_background": "light"
          }
        }
      ]
    }
  ]
}