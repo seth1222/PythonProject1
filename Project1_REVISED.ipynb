{
  "nbformat": 4,
  "nbformat_minor": 0,
  "metadata": {
    "colab": {
      "name": "Project1_REVISED.ipynb",
      "provenance": [],
      "collapsed_sections": [],
      "authorship_tag": "ABX9TyOP1zzFi7kRpd50YgQrTXNa",
      "include_colab_link": true
    },
    "kernelspec": {
      "name": "python3",
      "display_name": "Python 3"
    }
  },
  "cells": [
    {
      "cell_type": "markdown",
      "metadata": {
        "id": "view-in-github",
        "colab_type": "text"
      },
      "source": [
        "<a href=\"https://colab.research.google.com/github/seth1222/PythonProject1/blob/master/Project1_REVISED.ipynb\" target=\"_parent\"><img src=\"https://colab.research.google.com/assets/colab-badge.svg\" alt=\"Open In Colab\"/></a>"
      ]
    },
    {
      "cell_type": "code",
      "metadata": {
        "id": "DqSStN5sMMfQ",
        "colab_type": "code",
        "colab": {
          "base_uri": "https://localhost:8080/",
          "height": 296
        },
        "outputId": "36c23c68-dc86-4e47-beec-c14b76aa98b6"
      },
      "source": [
        "import pandas as pd\n",
        "import numpy as np\n",
        "import matplotlib.pyplot as plt\n",
        "import seaborn as sns\n",
        "%matplotlib inline\n",
        "missing_values=[\"n/a\",\"na\",\"--\",\"s\"]\n",
        "df= pd.read_csv('https://raw.githubusercontent.com/CunyLaguardiaDataAnalytics/datasets/master/2014-15_To_2016-17_School-_Level_NYC_Regents_Report_For_All_Variables.csv',index_col=6)\n",
        "drop_cols = ['School DBN','Total Tested','Percent Scoring Below 65', 'Percent Scoring 65 or Above','Percent Scoring 80 or Above','Number Scoring Below 65','Number Scoring 65 or Above','Number Scoring 80 or Above','Number Scoring CR','Percent Scoring CR']\n",
        "df.drop(drop_cols, inplace= True, axis=1)\n",
        "PS008RF =df[(df['School Name']=='P.S. 008 Robert Fulton') & (df['Regents Exam']=='Common Core Algebra')]\n",
        "PS008RF.plot(kind='hist')\n",
        "plt.xlabel('Year')\n",
        "plt.ylabel('Mean Score')\n",
        "\n",
        "# I did a comparative analysis of the Mean Scores between P.S. 008, P.S. 232, and citywide (the entire dataset).  \n",
        "# I picked P.S 008 because it is the Junior Highschool that I attended.  \n",
        "# I decided to do the comparative P.S. 008 with P.S. 232 because the grade range was also K-8.\n",
        "# For each block of code I used the \".plot(kind='hist')\" function to show the mean scores for each during the span of 2015, 2016, and 2017.\n",
        "# Highlight: Based on the analysis, P.S. 008 exceeded the mean scores of P.S. 232 and the citywide during 2017.  "
      ],
      "execution_count": null,
      "outputs": [
        {
          "output_type": "execute_result",
          "data": {
            "text/plain": [
              "Text(0, 0.5, 'Mean Score')"
            ]
          },
          "metadata": {
            "tags": []
          },
          "execution_count": 2
        },
        {
          "output_type": "display_data",
          "data": {
            "image/png": "[encoded data removed]",
            "text/plain": [
              "<Figure size 432x288 with 1 Axes>"
            ]
          },
          "metadata": {
            "tags": [],
            "needs_background": "light"
          }
        }
      ]
    },
    {
      "cell_type": "code",
      "metadata": {
        "id": "msdFS85TPWom",
        "colab_type": "code",
        "colab": {
          "base_uri": "https://localhost:8080/",
          "height": 296
        },
        "outputId": "90400a24-f512-400f-d270-afe598757db1"
      },
      "source": [
        "import pandas as pd\n",
        "import numpy as np\n",
        "import matplotlib.pyplot as plt\n",
        "import seaborn as sns\n",
        "%matplotlib inline\n",
        "missing_values=[\"n/a\",\"na\",\"--\",\"s\"]\n",
        "df= pd.read_csv('https://raw.githubusercontent.com/CunyLaguardiaDataAnalytics/datasets/master/2014-15_To_2016-17_School-_Level_NYC_Regents_Report_For_All_Variables.csv',index_col=6)\n",
        "drop_cols = ['School DBN','Total Tested','Percent Scoring Below 65','Percent Scoring 65 or Above', 'Percent Scoring 80 or Above','Number Scoring Below 65','Number Scoring 65 or Above','Number Scoring 80 or Above','Number Scoring CR','Percent Scoring CR']\n",
        "df.drop(drop_cols, inplace= True, axis=1)\n",
        "PS232L =df[(df['School Name']=='P.S. 232 Lindenwood') & (df['Regents Exam']=='Common Core Algebra')]\n",
        "PS232L.plot(kind='hist')\n",
        "plt.xlabel('Year')\n",
        "plt.ylabel('Mean Score')\n",
        "\n",
        "# I did a comparative analysis of the Mean Scores between P.S. 008, P.S. 232, and citywide (the entire dataset).  \n",
        "# I picked P.S 008 because it is the Junior Highschool that I attended.  \n",
        "# I decided to do the comparative P.S. 008 with P.S. 232 because the grade range was also K-8.\n",
        "# For each block of code is used the \".plot(kind='hist')\" function to show the mean scores for each during the span of 2015, 2016, and 2017.\n",
        "# Highlight: Based on the analysis, P.S. 232 exceeded the mean scores citywide during 2017\n"
      ],
      "execution_count": null,
      "outputs": [
        {
          "output_type": "execute_result",
          "data": {
            "text/plain": [
              "Text(0, 0.5, 'Mean Score')"
            ]
          },
          "metadata": {
            "tags": []
          },
          "execution_count": 4
        },
        {
          "output_type": "display_data",
          "data": {
            "image/png": "[encoded data removed]",
            "text/plain": [
              "<Figure size 432x288 with 1 Axes>"
            ]
          },
          "metadata": {
            "tags": [],
            "needs_background": "light"
          }
        }
      ]
    },
    {
      "cell_type": "code",
      "metadata": {
        "id": "xEq8zIZyAckQ",
        "colab_type": "code",
        "colab": {
          "base_uri": "https://localhost:8080/",
          "height": 296
        },
        "outputId": "b88026c3-3209-4bbd-d7a5-64681b3c64c4"
      },
      "source": [
        "import pandas as pd\n",
        "import numpy as np\n",
        "import matplotlib.pyplot as plt\n",
        "import seaborn as sns\n",
        "%matplotlib inline\n",
        "missing_values=[\"n/a\",\"na\",\"--\",\"s\"]\n",
        "df= pd.read_csv('https://raw.githubusercontent.com/CunyLaguardiaDataAnalytics/datasets/master/2014-15_To_2016-17_School-_Level_NYC_Regents_Report_For_All_Variables.csv',index_col=6)\n",
        "drop_cols = ['School DBN','Total Tested','Percent Scoring Below 65','Percent Scoring 65 or Above', 'Percent Scoring 80 or Above','Number Scoring Below 65','Number Scoring 65 or Above','Number Scoring 80 or Above','Number Scoring CR','Percent Scoring CR']\n",
        "df.drop(drop_cols, inplace= True, axis=1)\n",
        "df.plot(kind='hist')\n",
        "plt.xlabel('Year')\n",
        "plt.ylabel('Mean Score')\n",
        "\n",
        "# I did a comparative analysis of the Mean Scores between P.S. 008, P.S. 232, and citywide (the entire dataset).  \n",
        "# I picked P.S 008 because it is the Junior Highschool that I attended.  \n",
        "# I decided to do the comparative P.S. 008 with P.S. 232 because the grade range was also K-8.\n",
        "# For each block of code is used the \".plot(kind='hist')\" function to show the mean scores for each during the span of 2015, 2016, and 2017.\n",
        "# This bar graph shows the means scores citywide."
      ],
      "execution_count": null,
      "outputs": [
        {
          "output_type": "execute_result",
          "data": {
            "text/plain": [
              "Text(0, 0.5, 'Mean Score')"
            ]
          },
          "metadata": {
            "tags": []
          },
          "execution_count": 3
        },
        {
          "output_type": "display_data",
          "data": {
            "image/png": "[encoded data removed]",
            "text/plain": [
              "<Figure size 432x288 with 1 Axes>"
            ]
          },
          "metadata": {
            "tags": [],
            "needs_background": "light"
          }
        }
      ]
    }
  ]
}